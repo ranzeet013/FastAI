{
 "cells": [
  {
   "cell_type": "code",
   "execution_count": 1,
   "id": "080b4c61",
   "metadata": {},
   "outputs": [],
   "source": [
    "import fastbook\n",
    "fastbook.setup_book()\n",
    "\n",
    "%reload_ext autoreload\n",
    "%autoreload 2\n",
    "%matplotlib inline"
   ]
  },
  {
   "cell_type": "markdown",
   "id": "85d2b590",
   "metadata": {},
   "source": [
    "# Tabular Classification :"
   ]
  },
  {
   "cell_type": "markdown",
   "id": "b621410f",
   "metadata": {},
   "source": [
    "Tabular classification using Fastai involves training a machine learning model to predict categories based on tabular data (structured data with rows and columns). To illustrate, let's consider a scenario where we want to predict whether a person's income is above or below a certain threshold using the \"Adult Sample\" dataset."
   ]
  },
  {
   "cell_type": "markdown",
   "id": "89fdcbf5",
   "metadata": {},
   "source": [
    "First, we import the necessary Fastai modules. Next, we specify the data path using untar_data and load the dataset as a TabularDataLoaders object. We define categorical and continuous column names, along with the target column name ('salary' in this case). We also apply preprocessing steps like categorifying categorical variables, filling missing values, and normalizing continuous features."
   ]
  },
  {
   "cell_type": "markdown",
   "id": "50895f62",
   "metadata": {},
   "source": [
    "With the data loaded and preprocessed, we create a tabular_learner instance, which initializes a neural network suitable for tabular data classification. Finally, we train the model using the fit_one_cycle method."
   ]
  },
  {
   "cell_type": "code",
   "execution_count": 2,
   "id": "6ac0c166",
   "metadata": {},
   "outputs": [
    {
     "data": {
      "text/html": [
       "\n",
       "<style>\n",
       "    /* Turns off some styling */\n",
       "    progress {\n",
       "        /* gets rid of default border in Firefox and Opera. */\n",
       "        border: none;\n",
       "        /* Needs to be in here for Safari polyfill so background images work as expected. */\n",
       "        background-size: auto;\n",
       "    }\n",
       "    progress:not([value]), progress:not([value])::-webkit-progress-bar {\n",
       "        background: repeating-linear-gradient(45deg, #7e7e7e, #7e7e7e 10px, #5c5c5c 10px, #5c5c5c 20px);\n",
       "    }\n",
       "    .progress-bar-interrupted, .progress-bar-interrupted::-webkit-progress-bar {\n",
       "        background: #F44336;\n",
       "    }\n",
       "</style>\n"
      ],
      "text/plain": [
       "<IPython.core.display.HTML object>"
      ]
     },
     "metadata": {},
     "output_type": "display_data"
    },
    {
     "data": {
      "text/html": [
       "\n",
       "    <div>\n",
       "      <progress value='974848' class='' max='968212' style='width:300px; height:20px; vertical-align: middle;'></progress>\n",
       "      100.69% [974848/968212 00:10&lt;00:00]\n",
       "    </div>\n",
       "    "
      ],
      "text/plain": [
       "<IPython.core.display.HTML object>"
      ]
     },
     "metadata": {},
     "output_type": "display_data"
    }
   ],
   "source": [
    "from fastai.tabular.all import *                                 # importing libraries. \n",
    "PATH = untar_data(URLs.ADULT_SAMPLE) "
   ]
  },
  {
   "cell_type": "code",
   "execution_count": 3,
   "id": "8d49ca25",
   "metadata": {},
   "outputs": [],
   "source": [
    "dls = TabularDataLoaders.from_csv(                               # tabular data loader . \n",
    "      PATH/\"adult.csv\",                                          # dataframe initializing \n",
    "      path=PATH,                                                 # path of dataframe \n",
    "      y_names=\"salary\",                                          # target column of dataframe \n",
    "      cat_names=[\"workclass\", \"education\", \"marital-status\",     #categorical columns\n",
    "                 \"occupation\", \"relationship\", \"race\"],           \n",
    "      cont_names=[\"age\", \"fnlwgt\", \"education-num\"],             # continous columns. \n",
    "      procs=[Categorify, FillMissing, Normalize]) "
   ]
  },
  {
   "cell_type": "code",
   "execution_count": 4,
   "id": "82f6d0df",
   "metadata": {},
   "outputs": [
    {
     "data": {
      "text/html": [
       "\n",
       "<style>\n",
       "    /* Turns off some styling */\n",
       "    progress {\n",
       "        /* gets rid of default border in Firefox and Opera. */\n",
       "        border: none;\n",
       "        /* Needs to be in here for Safari polyfill so background images work as expected. */\n",
       "        background-size: auto;\n",
       "    }\n",
       "    progress:not([value]), progress:not([value])::-webkit-progress-bar {\n",
       "        background: repeating-linear-gradient(45deg, #7e7e7e, #7e7e7e 10px, #5c5c5c 10px, #5c5c5c 20px);\n",
       "    }\n",
       "    .progress-bar-interrupted, .progress-bar-interrupted::-webkit-progress-bar {\n",
       "        background: #F44336;\n",
       "    }\n",
       "</style>\n"
      ],
      "text/plain": [
       "<IPython.core.display.HTML object>"
      ]
     },
     "metadata": {},
     "output_type": "display_data"
    },
    {
     "data": {
      "text/html": [
       "<table border=\"1\" class=\"dataframe\">\n",
       "  <thead>\n",
       "    <tr style=\"text-align: left;\">\n",
       "      <th>epoch</th>\n",
       "      <th>train_loss</th>\n",
       "      <th>valid_loss</th>\n",
       "      <th>accuracy</th>\n",
       "      <th>time</th>\n",
       "    </tr>\n",
       "  </thead>\n",
       "  <tbody>\n",
       "    <tr>\n",
       "      <td>0</td>\n",
       "      <td>0.378202</td>\n",
       "      <td>0.373804</td>\n",
       "      <td>0.831388</td>\n",
       "      <td>00:18</td>\n",
       "    </tr>\n",
       "    <tr>\n",
       "      <td>1</td>\n",
       "      <td>0.357016</td>\n",
       "      <td>0.354506</td>\n",
       "      <td>0.837224</td>\n",
       "      <td>00:14</td>\n",
       "    </tr>\n",
       "    <tr>\n",
       "      <td>2</td>\n",
       "      <td>0.351176</td>\n",
       "      <td>0.351145</td>\n",
       "      <td>0.839066</td>\n",
       "      <td>00:10</td>\n",
       "    </tr>\n",
       "  </tbody>\n",
       "</table>"
      ],
      "text/plain": [
       "<IPython.core.display.HTML object>"
      ]
     },
     "metadata": {},
     "output_type": "display_data"
    }
   ],
   "source": [
    "learn = tabular_learner(dls, metrics=accuracy)                   # training model . \n",
    "learn.fit_one_cycle(3)                                           # training for 3 cycle "
   ]
  },
  {
   "cell_type": "code",
   "execution_count": null,
   "id": "eeab3db4",
   "metadata": {},
   "outputs": [],
   "source": []
  }
 ],
 "metadata": {
  "kernelspec": {
   "display_name": "Python 3 (ipykernel)",
   "language": "python",
   "name": "python3"
  },
  "language_info": {
   "codemirror_mode": {
    "name": "ipython",
    "version": 3
   },
   "file_extension": ".py",
   "mimetype": "text/x-python",
   "name": "python",
   "nbconvert_exporter": "python",
   "pygments_lexer": "ipython3",
   "version": "3.10.9"
  }
 },
 "nbformat": 4,
 "nbformat_minor": 5
}
